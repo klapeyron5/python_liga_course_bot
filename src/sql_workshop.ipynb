{
 "cells": [
  {
   "cell_type": "code",
   "execution_count": 1,
   "id": "4ef87490",
   "metadata": {
    "pycharm": {
     "name": "#%%\n"
    }
   },
   "outputs": [],
   "source": [
    "import pandas as pd\n",
    "import os"
   ]
  },
  {
   "cell_type": "code",
   "execution_count": 2,
   "id": "82d8bae5",
   "metadata": {
    "pycharm": {
     "name": "#%%\n"
    }
   },
   "outputs": [],
   "source": [
    "import sys\n",
    "import cx_Oracle\n",
    "try:\n",
    "    if sys.platform.startswith(\"darwin\"):\n",
    "        lib_dir = os.path.join(os.environ.get(\"HOME\"), \"Downloads\", \"instantclient_19_8\")\n",
    "        cx_Oracle.init_oracle_client(lib_dir=lib_dir)\n",
    "    elif sys.platform.startswith(\"win32\"):\n",
    "        lib_dir = r\"C:\\oracle\\instantclient_21_6\"\n",
    "        cx_Oracle.init_oracle_client(lib_dir=lib_dir)\n",
    "except Exception as err:\n",
    "    print(\"Whoops!\")\n",
    "    print(err);\n",
    "    sys.exit(1);"
   ]
  },
  {
   "cell_type": "code",
   "execution_count": 3,
   "id": "dd46a5f4",
   "metadata": {
    "pycharm": {
     "name": "#%%\n"
    }
   },
   "outputs": [],
   "source": [
    "from db_worker import DB_Worker\n",
    "from utils import parse_config"
   ]
  },
  {
   "cell_type": "code",
   "execution_count": 4,
   "id": "ef1b6b3d",
   "metadata": {
    "pycharm": {
     "name": "#%%\n"
    }
   },
   "outputs": [],
   "source": [
    "config = parse_config('../data/config.ini')"
   ]
  },
  {
   "cell_type": "code",
   "execution_count": 5,
   "id": "6a5255e7",
   "metadata": {
    "pycharm": {
     "name": "#%%\n"
    }
   },
   "outputs": [
    {
     "data": {
      "text/plain": "{'host': '192.168.238.240',\n 'port': '1521',\n 'dbname': 'study',\n 'user': 'sqlbot',\n 'pwd': 'iddqd'}"
     },
     "execution_count": 5,
     "metadata": {},
     "output_type": "execute_result"
    }
   ],
   "source": [
    "config._sections['db']"
   ]
  },
  {
   "cell_type": "code",
   "execution_count": 6,
   "id": "99924ebe",
   "metadata": {
    "pycharm": {
     "name": "#%%\n"
    }
   },
   "outputs": [],
   "source": [
    "dbw = DB_Worker(config)"
   ]
  },
  {
   "cell_type": "code",
   "execution_count": 20,
   "outputs": [],
   "source": [
    "tables = [\n",
    "    'PYTHON_BOT_PROGRESS',\n",
    "    'PYTHON_BOT_ASSIGNMENTS',\n",
    "    'PYTHON_BOT_USERS',\n",
    "    'PYTHON_BOT_GROUPS',\n",
    "]"
   ],
   "metadata": {
    "collapsed": false,
    "pycharm": {
     "name": "#%%\n"
    }
   }
  },
  {
   "cell_type": "code",
   "execution_count": 32,
   "id": "0dc5af72",
   "metadata": {
    "pycharm": {
     "name": "#%%\n"
    }
   },
   "outputs": [
    {
     "name": "stdout",
     "output_type": "stream",
     "text": [
      "=============================\n",
      "\n",
      "  CREATE TABLE \"SQLBOT\".\"SQL_BOT_USERS\" \n",
      "   (\t\"NAME\" VARCHAR2(150), \n",
      "\t\"GROUP_ID\" NUMBER, \n",
      "\t\"CHAT_ID\" VARCHAR2(30), \n",
      "\t\"IS_TEST\" CHAR(1) DEFAULT 'N' NOT NULL ENABLE, \n",
      "\t\"LOGIN\" VARCHAR2(100), \n",
      "\t CONSTRAINT \"PK_USERS_CHAT_ID\" PRIMARY KEY (\"CHAT_ID\")\n",
      "  USING INDEX PCTFREE 10 INITRANS 2 MAXTRANS 255 COMPUTE STATISTICS \n",
      "  STORAGE(INITIAL 65536 NEXT 1048576 MINEXTENTS 1 MAXEXTENTS 2147483645\n",
      "  PCTINCREASE 0 FREELISTS 1 FREELIST GROUPS 1\n",
      "  BUFFER_POOL DEFAULT FLASH_CACHE DEFAULT CELL_FLASH_CACHE DEFAULT)\n",
      "  TABLESPACE \"USERS\"  ENABLE, \n",
      "\t CONSTRAINT \"NAME_NOT_NULL\" CHECK (\"NAME\" IS NOT NULL) ENABLE, \n",
      "\t CONSTRAINT \"FK_GROUP_ID\" FOREIGN KEY (\"GROUP_ID\")\n",
      "\t  REFERENCES \"SQLBOT\".\"SQL_BOT_GROUPS\" (\"ID\") ENABLE\n",
      "   ) SEGMENT CREATION IMMEDIATE \n",
      "  PCTFREE 10 PCTUSED 40 INITRANS 1 MAXTRANS 255 \n",
      " NOCOMPRESS LOGGING\n",
      "  STORAGE(INITIAL 65536 NEXT 1048576 MINEXTENTS 1 MAXEXTENTS 2147483645\n",
      "  PCTINCREASE 0 FREELISTS 1 FREELIST GROUPS 1\n",
      "  BUFFER_POOL DEFAULT FLASH_CACHE DEFAULT CELL_FLASH_CACHE DEFAULT)\n",
      "  TABLESPACE \"USERS\" \n",
      "=============================\n",
      "\n",
      "  CREATE TABLE \"SQLBOT\".\"SQL_BOT_PROGRESS\" \n",
      "   (\t\"NAME\" VARCHAR2(150), \n",
      "\t\"CHAT_ID\" VARCHAR2(30), \n",
      "\t\"TEST\" NUMBER(*,0), \n",
      "\t\"TASK\" NUMBER(*,0), \n",
      "\t\"GROUP_ID\" NUMBER, \n",
      "\t\"DATE_TIME\" DATE DEFAULT sysdate NOT NULL ENABLE, \n",
      "\t CONSTRAINT \"FK_CHAT_ID\" FOREIGN KEY (\"CHAT_ID\")\n",
      "\t  REFERENCES \"SQLBOT\".\"SQL_BOT_USERS\" (\"CHAT_ID\") ENABLE\n",
      "   ) SEGMENT CREATION IMMEDIATE \n",
      "  PCTFREE 10 PCTUSED 40 INITRANS 1 MAXTRANS 255 \n",
      " NOCOMPRESS LOGGING\n",
      "  STORAGE(INITIAL 65536 NEXT 1048576 MINEXTENTS 1 MAXEXTENTS 2147483645\n",
      "  PCTINCREASE 0 FREELISTS 1 FREELIST GROUPS 1\n",
      "  BUFFER_POOL DEFAULT FLASH_CACHE DEFAULT CELL_FLASH_CACHE DEFAULT)\n",
      "  TABLESPACE \"USERS\" \n",
      "=============================\n",
      "\n",
      "  CREATE TABLE \"SQLBOT\".\"SQL_BOT_ASSIGNMENTS\" \n",
      "   (\t\"TEST\" NUMBER, \n",
      "\t\"TASK\" NUMBER, \n",
      "\t\"QUESTION\" VARCHAR2(4000), \n",
      "\t\"ANSWER\" VARCHAR2(4000), \n",
      "\t CONSTRAINT \"UK_TEST_TASK\" UNIQUE (\"TEST\", \"TASK\")\n",
      "  USING INDEX PCTFREE 10 INITRANS 2 MAXTRANS 255 COMPUTE STATISTICS \n",
      "  STORAGE(INITIAL 65536 NEXT 1048576 MINEXTENTS 1 MAXEXTENTS 2147483645\n",
      "  PCTINCREASE 0 FREELISTS 1 FREELIST GROUPS 1\n",
      "  BUFFER_POOL DEFAULT FLASH_CACHE DEFAULT CELL_FLASH_CACHE DEFAULT)\n",
      "  TABLESPACE \"USERS\"  ENABLE\n",
      "   ) SEGMENT CREATION IMMEDIATE \n",
      "  PCTFREE 10 PCTUSED 40 INITRANS 1 MAXTRANS 255 \n",
      " NOCOMPRESS LOGGING\n",
      "  STORAGE(INITIAL 65536 NEXT 1048576 MINEXTENTS 1 MAXEXTENTS 2147483645\n",
      "  PCTINCREASE 0 FREELISTS 1 FREELIST GROUPS 1\n",
      "  BUFFER_POOL DEFAULT FLASH_CACHE DEFAULT CELL_FLASH_CACHE DEFAULT)\n",
      "  TABLESPACE \"USERS\" \n",
      "=============================\n",
      "\n",
      "  CREATE TABLE \"SQLBOT\".\"SQL_BOT_PROGRESS\" \n",
      "   (\t\"NAME\" VARCHAR2(150), \n",
      "\t\"CHAT_ID\" VARCHAR2(30), \n",
      "\t\"TEST\" NUMBER(*,0), \n",
      "\t\"TASK\" NUMBER(*,0), \n",
      "\t\"GROUP_ID\" NUMBER, \n",
      "\t\"DATE_TIME\" DATE DEFAULT sysdate NOT NULL ENABLE, \n",
      "\t CONSTRAINT \"FK_CHAT_ID\" FOREIGN KEY (\"CHAT_ID\")\n",
      "\t  REFERENCES \"SQLBOT\".\"SQL_BOT_USERS\" (\"CHAT_ID\") ENABLE\n",
      "   ) SEGMENT CREATION IMMEDIATE \n",
      "  PCTFREE 10 PCTUSED 40 INITRANS 1 MAXTRANS 255 \n",
      " NOCOMPRESS LOGGING\n",
      "  STORAGE(INITIAL 65536 NEXT 1048576 MINEXTENTS 1 MAXEXTENTS 2147483645\n",
      "  PCTINCREASE 0 FREELISTS 1 FREELIST GROUPS 1\n",
      "  BUFFER_POOL DEFAULT FLASH_CACHE DEFAULT CELL_FLASH_CACHE DEFAULT)\n",
      "  TABLESPACE \"USERS\" \n",
      "=============================\n",
      "\n",
      "  CREATE TABLE \"SQLBOT\".\"SQL_BOT_GROUPS\" \n",
      "   (\t\"ID\" NUMBER NOT NULL ENABLE, \n",
      "\t\"NAME\" VARCHAR2(100) NOT NULL ENABLE, \n",
      "\t CONSTRAINT \"GROUPS_PK\" PRIMARY KEY (\"ID\")\n",
      "  USING INDEX PCTFREE 10 INITRANS 2 MAXTRANS 255 COMPUTE STATISTICS \n",
      "  STORAGE(INITIAL 65536 NEXT 1048576 MINEXTENTS 1 MAXEXTENTS 2147483645\n",
      "  PCTINCREASE 0 FREELISTS 1 FREELIST GROUPS 1\n",
      "  BUFFER_POOL DEFAULT FLASH_CACHE DEFAULT CELL_FLASH_CACHE DEFAULT)\n",
      "  TABLESPACE \"USERS\"  ENABLE\n",
      "   ) SEGMENT CREATION IMMEDIATE \n",
      "  PCTFREE 10 PCTUSED 40 INITRANS 1 MAXTRANS 255 \n",
      " NOCOMPRESS LOGGING\n",
      "  STORAGE(INITIAL 65536 NEXT 1048576 MINEXTENTS 1 MAXEXTENTS 2147483645\n",
      "  PCTINCREASE 0 FREELISTS 1 FREELIST GROUPS 1\n",
      "  BUFFER_POOL DEFAULT FLASH_CACHE DEFAULT CELL_FLASH_CACHE DEFAULT)\n",
      "  TABLESPACE \"USERS\" \n"
     ]
    }
   ],
   "source": [
    "for t in tables:\n",
    "    q = f'''\n",
    "    select dbms_metadata.get_ddl('TABLE', '{t}') from dual\n",
    "    '''\n",
    "    c = dbw.connect_to_db()\n",
    "    cur = c.cursor()\n",
    "    cur.execute(q)\n",
    "    out = cur.fetchall()\n",
    "    q = out[0][0].read()\n",
    "    c.close()\n",
    "    print('=============================')\n",
    "    print(q)"
   ]
  },
  {
   "cell_type": "code",
   "execution_count": 41,
   "outputs": [],
   "source": [
    "q = '''\n",
    "drop table {t}\n",
    "'''\n",
    "for t in tables:\n",
    "    qq = q.format(t=t)\n",
    "    with dbw.connect_to_db() as c:\n",
    "        cur = c.cursor()\n",
    "        try:\n",
    "            cur.execute(qq)\n",
    "        except Exception as e:\n",
    "            print(e)"
   ],
   "metadata": {
    "collapsed": false,
    "pycharm": {
     "name": "#%%\n"
    }
   }
  },
  {
   "cell_type": "code",
   "execution_count": 42,
   "id": "4cc66fab",
   "metadata": {
    "pycharm": {
     "name": "#%%\n"
    }
   },
   "outputs": [],
   "source": [
    "q = '''\n",
    "CREATE TABLE PYTHON_BOT_GROUPS (\n",
    "    \"ID\" NUMBER NOT NULL ENABLE,\n",
    "    \"NAME\" VARCHAR2(100) NOT NULL ENABLE,\n",
    "    CONSTRAINT \"PYTHON_GROUPS_PK\" PRIMARY KEY (\"ID\")\n",
    ");\n",
    "\n",
    "CREATE TABLE PYTHON_BOT_USERS (\n",
    "    \"NAME\" VARCHAR2(150), \n",
    "    \"GROUP_ID\" NUMBER, \n",
    "    \"CHAT_ID\" VARCHAR2(30), \n",
    "    \"IS_TEST\" CHAR(1) DEFAULT 'N' NOT NULL ENABLE, \n",
    "    \"LOGIN\" VARCHAR2(100), \n",
    "    CONSTRAINT \"PYTHON_PK_USERS_CHAT_ID\" PRIMARY KEY (\"CHAT_ID\"),\n",
    "    CONSTRAINT \"PYTHON_NAME_NOT_NULL\" CHECK (\"NAME\" IS NOT NULL) ENABLE,\n",
    "    CONSTRAINT \"PYTHON_FK_GROUP_ID\" FOREIGN KEY (\"GROUP_ID\") REFERENCES PYTHON_BOT_GROUPS (\"ID\") ENABLE\n",
    ");\n",
    "\n",
    "CREATE TABLE PYTHON_BOT_ASSIGNMENTS (\n",
    "    \"TASK\" VARCHAR(50),\n",
    "    CONSTRAINT \"PYTHON_UK_TEST_TASK\" UNIQUE (\"TASK\")\n",
    ");\n",
    "\n",
    "CREATE TABLE PYTHON_BOT_PROGRESS (\n",
    "    \"NAME\" VARCHAR2(150),\n",
    "    \"CHAT_ID\" VARCHAR2(30),\n",
    "    \"TASK\" VARCHAR(50),\n",
    "    \"GROUP_ID\" NUMBER,\n",
    "    \"DATE_TIME\" DATE DEFAULT sysdate NOT NULL ENABLE,\n",
    "    CONSTRAINT \"PYTHON_FK_CHAT_ID\" FOREIGN KEY (\"CHAT_ID\") REFERENCES PYTHON_BOT_USERS (\"CHAT_ID\") ENABLE,\n",
    "    CONSTRAINT \"PYTHON_FK_TASK\" FOREIGN KEY (\"TASK\") REFERENCES PYTHON_BOT_ASSIGNMENTS (\"TASK\") ENABLE\n",
    ");'''\n",
    "for qq in q.split(';'):\n",
    "    if qq=='': continue\n",
    "    with dbw.connect_to_db() as c:\n",
    "        cur = c.cursor()\n",
    "        cur.execute(qq)\n",
    "        # out = cur.fetchall()"
   ]
  },
  {
   "cell_type": "code",
   "execution_count": 43,
   "outputs": [],
   "source": [
    "q = '''\n",
    "insert all\n",
    "into PYTHON_BOT_ASSIGNMENTS (TASK) values ('L04_HW_project')\n",
    "into PYTHON_BOT_ASSIGNMENTS (TASK) values ('L04_HW_task1')\n",
    "into PYTHON_BOT_ASSIGNMENTS (TASK) values ('L04_HW_task2')\n",
    "into PYTHON_BOT_ASSIGNMENTS (TASK) values ('L04_HW_task3')\n",
    "into PYTHON_BOT_ASSIGNMENTS (TASK) values ('L05_HW_project')\n",
    "into PYTHON_BOT_ASSIGNMENTS (TASK) values ('L05_HW_task1')\n",
    "select 1 from dual\n",
    "'''\n",
    "with dbw.connect_to_db() as c:\n",
    "    cur = c.cursor()\n",
    "    cur.execute(q)\n",
    "    c.commit()\n",
    "    # out = cur.fetchall()\n",
    "# out"
   ],
   "metadata": {
    "collapsed": false,
    "pycharm": {
     "name": "#%%\n"
    }
   }
  },
  {
   "cell_type": "code",
   "execution_count": 44,
   "outputs": [],
   "source": [
    "q = '''\n",
    "insert into PYTHON_BOT_GROUPS (id, name)\n",
    "values (1,'test')\n",
    "'''\n",
    "with dbw.connect_to_db() as c:\n",
    "    cur = c.cursor()\n",
    "    cur.execute(q)\n",
    "    c.commit()\n",
    "    # out = cur.fetchall()\n",
    "# out"
   ],
   "metadata": {
    "collapsed": false,
    "pycharm": {
     "name": "#%%\n"
    }
   }
  },
  {
   "cell_type": "code",
   "execution_count": 39,
   "outputs": [
    {
     "ename": "IntegrityError",
     "evalue": "ORA-02291: integrity constraint (SQLBOT.PYTHON_FK_TASK) violated - parent key not found",
     "output_type": "error",
     "traceback": [
      "\u001B[1;31m---------------------------------------------------------------------------\u001B[0m",
      "\u001B[1;31mIntegrityError\u001B[0m                            Traceback (most recent call last)",
      "\u001B[1;32mC:\\Users\\NKAKUR~1\\AppData\\Local\\Temp/ipykernel_8368/3507021087.py\u001B[0m in \u001B[0;36m<module>\u001B[1;34m\u001B[0m\n\u001B[0;32m      5\u001B[0m \u001B[1;32mwith\u001B[0m \u001B[0mdbw\u001B[0m\u001B[1;33m.\u001B[0m\u001B[0mconnect_to_db\u001B[0m\u001B[1;33m(\u001B[0m\u001B[1;33m)\u001B[0m \u001B[1;32mas\u001B[0m \u001B[0mc\u001B[0m\u001B[1;33m:\u001B[0m\u001B[1;33m\u001B[0m\u001B[1;33m\u001B[0m\u001B[0m\n\u001B[0;32m      6\u001B[0m     \u001B[0mcur\u001B[0m \u001B[1;33m=\u001B[0m \u001B[0mc\u001B[0m\u001B[1;33m.\u001B[0m\u001B[0mcursor\u001B[0m\u001B[1;33m(\u001B[0m\u001B[1;33m)\u001B[0m\u001B[1;33m\u001B[0m\u001B[1;33m\u001B[0m\u001B[0m\n\u001B[1;32m----> 7\u001B[1;33m     \u001B[0mcur\u001B[0m\u001B[1;33m.\u001B[0m\u001B[0mexecute\u001B[0m\u001B[1;33m(\u001B[0m\u001B[0mq\u001B[0m\u001B[1;33m)\u001B[0m\u001B[1;33m\u001B[0m\u001B[1;33m\u001B[0m\u001B[0m\n\u001B[0m\u001B[0;32m      8\u001B[0m     \u001B[0mc\u001B[0m\u001B[1;33m.\u001B[0m\u001B[0mcommit\u001B[0m\u001B[1;33m(\u001B[0m\u001B[1;33m)\u001B[0m\u001B[1;33m\u001B[0m\u001B[1;33m\u001B[0m\u001B[0m\n\u001B[0;32m      9\u001B[0m     \u001B[1;31m# out = cur.fetchall()\u001B[0m\u001B[1;33m\u001B[0m\u001B[1;33m\u001B[0m\u001B[0m\n",
      "\u001B[1;31mIntegrityError\u001B[0m: ORA-02291: integrity constraint (SQLBOT.PYTHON_FK_TASK) violated - parent key not found"
     ]
    }
   ],
   "source": [
    "q = '''\n",
    "INSERT INTO PYTHON_BOT_PROGRESS (name, group_id, chat_id, task)\n",
    "VALUES ('Nikita Kakurnikov', 1, '258477531', 'L04_HW_task1')\n",
    "'''\n",
    "with dbw.connect_to_db() as c:\n",
    "    cur = c.cursor()\n",
    "    cur.execute(q)\n",
    "    c.commit()\n",
    "    # out = cur.fetchall()\n",
    "# out"
   ],
   "metadata": {
    "collapsed": false,
    "pycharm": {
     "name": "#%%\n"
    }
   }
  },
  {
   "cell_type": "code",
   "execution_count": 40,
   "outputs": [
    {
     "data": {
      "text/plain": "          TASK\n0  L04_project\n1    L04_task1\n2    L04_task2\n3    L04_task3\n4  L05_project\n5    L05_task1",
      "text/html": "<div>\n<style scoped>\n    .dataframe tbody tr th:only-of-type {\n        vertical-align: middle;\n    }\n\n    .dataframe tbody tr th {\n        vertical-align: top;\n    }\n\n    .dataframe thead th {\n        text-align: right;\n    }\n</style>\n<table border=\"1\" class=\"dataframe\">\n  <thead>\n    <tr style=\"text-align: right;\">\n      <th></th>\n      <th>TASK</th>\n    </tr>\n  </thead>\n  <tbody>\n    <tr>\n      <th>0</th>\n      <td>L04_project</td>\n    </tr>\n    <tr>\n      <th>1</th>\n      <td>L04_task1</td>\n    </tr>\n    <tr>\n      <th>2</th>\n      <td>L04_task2</td>\n    </tr>\n    <tr>\n      <th>3</th>\n      <td>L04_task3</td>\n    </tr>\n    <tr>\n      <th>4</th>\n      <td>L05_project</td>\n    </tr>\n    <tr>\n      <th>5</th>\n      <td>L05_task1</td>\n    </tr>\n  </tbody>\n</table>\n</div>"
     },
     "execution_count": 40,
     "metadata": {},
     "output_type": "execute_result"
    }
   ],
   "source": [
    "q = '''\n",
    "select * from PYTHON_BOT_ASSIGNMENTS\n",
    "'''\n",
    "with dbw.connect_to_db() as c:\n",
    "    df = pd.read_sql(q, c)\n",
    "df"
   ],
   "metadata": {
    "collapsed": false,
    "pycharm": {
     "name": "#%%\n"
    }
   }
  },
  {
   "cell_type": "code",
   "execution_count": 35,
   "outputs": [
    {
     "data": {
      "text/plain": "   ID  NAME\n0   1  test",
      "text/html": "<div>\n<style scoped>\n    .dataframe tbody tr th:only-of-type {\n        vertical-align: middle;\n    }\n\n    .dataframe tbody tr th {\n        vertical-align: top;\n    }\n\n    .dataframe thead th {\n        text-align: right;\n    }\n</style>\n<table border=\"1\" class=\"dataframe\">\n  <thead>\n    <tr style=\"text-align: right;\">\n      <th></th>\n      <th>ID</th>\n      <th>NAME</th>\n    </tr>\n  </thead>\n  <tbody>\n    <tr>\n      <th>0</th>\n      <td>1</td>\n      <td>test</td>\n    </tr>\n  </tbody>\n</table>\n</div>"
     },
     "execution_count": 35,
     "metadata": {},
     "output_type": "execute_result"
    }
   ],
   "source": [
    "q = '''\n",
    "select * from PYTHON_BOT_GROUPS\n",
    "'''\n",
    "with dbw.connect_to_db() as c:\n",
    "    df = pd.read_sql(q, c)\n",
    "df"
   ],
   "metadata": {
    "collapsed": false,
    "pycharm": {
     "name": "#%%\n"
    }
   }
  },
  {
   "cell_type": "code",
   "execution_count": 38,
   "outputs": [
    {
     "data": {
      "text/plain": "Empty DataFrame\nColumns: [NAME, CHAT_ID, TASK, GROUP_ID, DATE_TIME]\nIndex: []",
      "text/html": "<div>\n<style scoped>\n    .dataframe tbody tr th:only-of-type {\n        vertical-align: middle;\n    }\n\n    .dataframe tbody tr th {\n        vertical-align: top;\n    }\n\n    .dataframe thead th {\n        text-align: right;\n    }\n</style>\n<table border=\"1\" class=\"dataframe\">\n  <thead>\n    <tr style=\"text-align: right;\">\n      <th></th>\n      <th>NAME</th>\n      <th>CHAT_ID</th>\n      <th>TASK</th>\n      <th>GROUP_ID</th>\n      <th>DATE_TIME</th>\n    </tr>\n  </thead>\n  <tbody>\n  </tbody>\n</table>\n</div>"
     },
     "execution_count": 38,
     "metadata": {},
     "output_type": "execute_result"
    }
   ],
   "source": [
    "q = '''\n",
    "select * from PYTHON_BOT_PROGRESS\n",
    "'''\n",
    "with dbw.connect_to_db() as c:\n",
    "    df = pd.read_sql(q, c)\n",
    "df"
   ],
   "metadata": {
    "collapsed": false,
    "pycharm": {
     "name": "#%%\n"
    }
   }
  },
  {
   "cell_type": "code",
   "execution_count": 17,
   "outputs": [
    {
     "data": {
      "text/plain": "'\\ndrop table PYTHON_BOT_ASSIGNMENTS\\n'"
     },
     "execution_count": 17,
     "metadata": {},
     "output_type": "execute_result"
    }
   ],
   "source": [
    "qq"
   ],
   "metadata": {
    "collapsed": false,
    "pycharm": {
     "name": "#%%\n"
    }
   }
  },
  {
   "cell_type": "code",
   "execution_count": null,
   "outputs": [],
   "source": [],
   "metadata": {
    "collapsed": false,
    "pycharm": {
     "name": "#%%\n"
    }
   }
  }
 ],
 "metadata": {
  "kernelspec": {
   "display_name": "Python 3 (ipykernel)",
   "language": "python",
   "name": "python3"
  },
  "language_info": {
   "codemirror_mode": {
    "name": "ipython",
    "version": 3
   },
   "file_extension": ".py",
   "mimetype": "text/x-python",
   "name": "python",
   "nbconvert_exporter": "python",
   "pygments_lexer": "ipython3",
   "version": "3.9.7"
  }
 },
 "nbformat": 4,
 "nbformat_minor": 5
}