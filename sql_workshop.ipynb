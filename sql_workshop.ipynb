{
 "cells": [
  {
   "cell_type": "code",
   "execution_count": 2,
   "id": "4ef87490",
   "metadata": {},
   "outputs": [],
   "source": [
    "import pandas as pd\n",
    "import os"
   ]
  },
  {
   "cell_type": "code",
   "execution_count": 2,
   "id": "82d8bae5",
   "metadata": {},
   "outputs": [],
   "source": [
    "import sys\n",
    "import cx_Oracle\n",
    "try:\n",
    "    if sys.platform.startswith(\"darwin\"):\n",
    "        lib_dir = os.path.join(os.environ.get(\"HOME\"), \"Downloads\", \"instantclient_19_8\")\n",
    "        cx_Oracle.init_oracle_client(lib_dir=lib_dir)\n",
    "    elif sys.platform.startswith(\"win32\"):\n",
    "        lib_dir = r\"C:\\oracle\\instantclient_21_6\"\n",
    "        cx_Oracle.init_oracle_client(lib_dir=lib_dir)\n",
    "except Exception as err:\n",
    "    print(\"Whoops!\")\n",
    "    print(err);\n",
    "    sys.exit(1);"
   ]
  },
  {
   "cell_type": "code",
   "execution_count": 3,
   "id": "dd46a5f4",
   "metadata": {},
   "outputs": [],
   "source": [
    "from db_worker import DB_Worker\n",
    "from utils import parse_config"
   ]
  },
  {
   "cell_type": "code",
   "execution_count": 4,
   "id": "ef1b6b3d",
   "metadata": {},
   "outputs": [],
   "source": [
    "config = parse_config('../data/config.ini')"
   ]
  },
  {
   "cell_type": "code",
   "execution_count": 5,
   "id": "6a5255e7",
   "metadata": {},
   "outputs": [
    {
     "data": {
      "text/plain": [
       "{'host': '192.168.238.240',\n",
       " 'port': '1521',\n",
       " 'dbname': 'study',\n",
       " 'user': 'sqlbot',\n",
       " 'pwd': 'iddqd'}"
      ]
     },
     "execution_count": 5,
     "metadata": {},
     "output_type": "execute_result"
    }
   ],
   "source": [
    "config._sections['db']"
   ]
  },
  {
   "cell_type": "code",
   "execution_count": 6,
   "id": "99924ebe",
   "metadata": {},
   "outputs": [],
   "source": [
    "dbw = DB_Worker(config)"
   ]
  },
  {
   "cell_type": "code",
   "execution_count": 7,
   "metadata": {
    "collapsed": false
   },
   "outputs": [],
   "source": [
    "tables = [\n",
    "    'PYTHON_BOT_PROGRESS',\n",
    "    'PYTHON_BOT_ASSIGNMENTS',\n",
    "    'PYTHON_BOT_USERS',\n",
    "    'PYTHON_BOT_GROUPS',\n",
    "]"
   ]
  },
  {
   "cell_type": "code",
   "execution_count": 8,
   "id": "0dc5af72",
   "metadata": {},
   "outputs": [],
   "source": [
    "# for t in tables:\n",
    "#     q = f'''\n",
    "#     select dbms_metadata.get_ddl('TABLE', '{t}') from dual\n",
    "#     '''\n",
    "#     c = dbw.connect_to_db()\n",
    "#     cur = c.cursor()\n",
    "#     cur.execute(q)\n",
    "#     out = cur.fetchall()\n",
    "#     q = out[0][0].read()\n",
    "#     c.close()\n",
    "#     print('=============================')\n",
    "#     print(q)"
   ]
  },
  {
   "cell_type": "code",
   "execution_count": 9,
   "metadata": {
    "collapsed": false
   },
   "outputs": [],
   "source": [
    "q = '''\n",
    "drop table {t}\n",
    "'''\n",
    "for t in tables:\n",
    "    qq = q.format(t=t)\n",
    "    with dbw.connect_to_db() as c:\n",
    "        cur = c.cursor()\n",
    "        try:\n",
    "            cur.execute(qq)\n",
    "        except Exception as e:\n",
    "            print(e)"
   ]
  },
  {
   "cell_type": "code",
   "execution_count": 10,
   "id": "4cc66fab",
   "metadata": {},
   "outputs": [],
   "source": [
    "q = '''\n",
    "CREATE TABLE PYTHON_BOT_GROUPS (\n",
    "    \"ID\" NUMBER NOT NULL ENABLE,\n",
    "    \"NAME\" VARCHAR2(100) NOT NULL ENABLE,\n",
    "    CONSTRAINT \"PYTHON_GROUPS_PK\" PRIMARY KEY (\"ID\")\n",
    ");\n",
    "\n",
    "CREATE TABLE PYTHON_BOT_USERS (\n",
    "    \"NAME\" VARCHAR2(150), \n",
    "    \"GROUP_ID\" NUMBER, \n",
    "    \"CHAT_ID\" VARCHAR2(30), \n",
    "    \"IS_TEST\" CHAR(1) DEFAULT 'N' NOT NULL ENABLE, \n",
    "    \"LOGIN\" VARCHAR2(100), \n",
    "    CONSTRAINT \"PYTHON_PK_USERS_CHAT_ID\" PRIMARY KEY (\"CHAT_ID\"),\n",
    "    CONSTRAINT \"PYTHON_NAME_NOT_NULL\" CHECK (\"NAME\" IS NOT NULL) ENABLE,\n",
    "    CONSTRAINT \"PYTHON_FK_GROUP_ID\" FOREIGN KEY (\"GROUP_ID\") REFERENCES PYTHON_BOT_GROUPS (\"ID\") ENABLE\n",
    ");\n",
    "\n",
    "CREATE TABLE PYTHON_BOT_ASSIGNMENTS (\n",
    "    \"TASK\" VARCHAR(50),\n",
    "    CONSTRAINT \"PYTHON_UK_TEST_TASK\" UNIQUE (\"TASK\")\n",
    ");\n",
    "\n",
    "CREATE TABLE PYTHON_BOT_PROGRESS (\n",
    "    \"NAME\" VARCHAR2(150),\n",
    "    \"CHAT_ID\" VARCHAR2(30),\n",
    "    \"TASK\" VARCHAR(50),\n",
    "    \"GROUP_ID\" NUMBER,\n",
    "    \"DATE_TIME\" DATE DEFAULT sysdate NOT NULL ENABLE,\n",
    "    CONSTRAINT \"PYTHON_FK_CHAT_ID\" FOREIGN KEY (\"CHAT_ID\") REFERENCES PYTHON_BOT_USERS (\"CHAT_ID\") ENABLE,\n",
    "    CONSTRAINT \"PYTHON_FK_TASK\" FOREIGN KEY (\"TASK\") REFERENCES PYTHON_BOT_ASSIGNMENTS (\"TASK\") ENABLE\n",
    ");'''\n",
    "for qq in q.split(';'):\n",
    "    if qq=='': continue\n",
    "    with dbw.connect_to_db() as c:\n",
    "        cur = c.cursor()\n",
    "        cur.execute(qq)\n",
    "        # out = cur.fetchall()"
   ]
  },
  {
   "cell_type": "code",
   "execution_count": 4,
   "id": "6af016eb",
   "metadata": {
    "collapsed": false
   },
   "outputs": [],
   "source": [
    "from hw_tests_prod.utils import _check_task_name_format\n",
    "tests = os.listdir(os.path.join(os.path.abspath(''), 'hw_tests_prod'))\n",
    "tests_names = []\n",
    "for t in tests:\n",
    "    if t[:5] == 'test_':\n",
    "        tname, ext = os.path.splitext(t[5:])\n",
    "        assert ext == '.py'\n",
    "        try:\n",
    "            _check_task_name_format(tname)\n",
    "            tests_names.append(tname)\n",
    "        except Exception:\n",
    "            pass"
   ]
  },
  {
   "cell_type": "code",
   "execution_count": 12,
   "metadata": {
    "collapsed": false
   },
   "outputs": [],
   "source": [
    "q = '''\n",
    "delete from PYTHON_BOT_ASSIGNMENTS where 1=1\n",
    "'''\n",
    "with dbw.connect_to_db() as c:\n",
    "    cur = c.cursor()\n",
    "    cur.execute(q)\n",
    "    c.commit()\n",
    "q = 'insert all\\n'\n",
    "for t in tests_names:\n",
    "    q += f\"into PYTHON_BOT_ASSIGNMENTS (TASK) values ('{t}')\\n\"\n",
    "q += 'select 1 from dual'\n",
    "with dbw.connect_to_db() as c:\n",
    "    cur = c.cursor()\n",
    "    cur.execute(q)\n",
    "    c.commit()"
   ]
  },
  {
   "cell_type": "code",
   "execution_count": 13,
   "metadata": {
    "collapsed": false
   },
   "outputs": [
    {
     "data": {
      "text/html": [
       "<div>\n",
       "<style scoped>\n",
       "    .dataframe tbody tr th:only-of-type {\n",
       "        vertical-align: middle;\n",
       "    }\n",
       "\n",
       "    .dataframe tbody tr th {\n",
       "        vertical-align: top;\n",
       "    }\n",
       "\n",
       "    .dataframe thead th {\n",
       "        text-align: right;\n",
       "    }\n",
       "</style>\n",
       "<table border=\"1\" class=\"dataframe\">\n",
       "  <thead>\n",
       "    <tr style=\"text-align: right;\">\n",
       "      <th></th>\n",
       "      <th>TASK</th>\n",
       "    </tr>\n",
       "  </thead>\n",
       "  <tbody>\n",
       "    <tr>\n",
       "      <th>0</th>\n",
       "      <td>L04_HW_project</td>\n",
       "    </tr>\n",
       "    <tr>\n",
       "      <th>1</th>\n",
       "      <td>L04_HW_task1</td>\n",
       "    </tr>\n",
       "    <tr>\n",
       "      <th>2</th>\n",
       "      <td>L04_HW_task2</td>\n",
       "    </tr>\n",
       "    <tr>\n",
       "      <th>3</th>\n",
       "      <td>L04_HW_task3</td>\n",
       "    </tr>\n",
       "    <tr>\n",
       "      <th>4</th>\n",
       "      <td>L05_HW_project</td>\n",
       "    </tr>\n",
       "    <tr>\n",
       "      <th>5</th>\n",
       "      <td>L06_HW_project</td>\n",
       "    </tr>\n",
       "    <tr>\n",
       "      <th>6</th>\n",
       "      <td>L06_HW_task1</td>\n",
       "    </tr>\n",
       "    <tr>\n",
       "      <th>7</th>\n",
       "      <td>L06_HW_task2</td>\n",
       "    </tr>\n",
       "  </tbody>\n",
       "</table>\n",
       "</div>"
      ],
      "text/plain": [
       "             TASK\n",
       "0  L04_HW_project\n",
       "1    L04_HW_task1\n",
       "2    L04_HW_task2\n",
       "3    L04_HW_task3\n",
       "4  L05_HW_project\n",
       "5  L06_HW_project\n",
       "6    L06_HW_task1\n",
       "7    L06_HW_task2"
      ]
     },
     "execution_count": 13,
     "metadata": {},
     "output_type": "execute_result"
    }
   ],
   "source": [
    "q = '''\n",
    "select * from PYTHON_BOT_ASSIGNMENTS\n",
    "'''\n",
    "with dbw.connect_to_db() as c:\n",
    "    df = pd.read_sql(q, c)\n",
    "df"
   ]
  },
  {
   "cell_type": "code",
   "execution_count": 14,
   "metadata": {
    "collapsed": false
   },
   "outputs": [],
   "source": [
    "q = '''\n",
    "insert into PYTHON_BOT_GROUPS (id, name)\n",
    "values (1,'admin')\n",
    "'''\n",
    "with dbw.connect_to_db() as c:\n",
    "    cur = c.cursor()\n",
    "    cur.execute(q)\n",
    "    c.commit()\n",
    "    # out = cur.fetchall()\n",
    "# out"
   ]
  },
  {
   "cell_type": "code",
   "execution_count": null,
   "metadata": {
    "collapsed": false
   },
   "outputs": [],
   "source": []
  },
  {
   "cell_type": "code",
   "execution_count": null,
   "metadata": {
    "collapsed": false
   },
   "outputs": [],
   "source": []
  },
  {
   "cell_type": "code",
   "execution_count": null,
   "metadata": {
    "collapsed": false
   },
   "outputs": [],
   "source": []
  },
  {
   "cell_type": "code",
   "execution_count": null,
   "metadata": {
    "collapsed": false
   },
   "outputs": [],
   "source": []
  },
  {
   "cell_type": "code",
   "execution_count": null,
   "metadata": {
    "collapsed": false
   },
   "outputs": [],
   "source": []
  },
  {
   "cell_type": "code",
   "execution_count": 39,
   "metadata": {
    "collapsed": false
   },
   "outputs": [
    {
     "ename": "IntegrityError",
     "evalue": "ORA-02291: integrity constraint (SQLBOT.PYTHON_FK_TASK) violated - parent key not found",
     "output_type": "error",
     "traceback": [
      "\u001b[1;31m---------------------------------------------------------------------------\u001b[0m",
      "\u001b[1;31mIntegrityError\u001b[0m                            Traceback (most recent call last)",
      "\u001b[1;32mC:\\Users\\NKAKUR~1\\AppData\\Local\\Temp/ipykernel_8368/3507021087.py\u001b[0m in \u001b[0;36m<module>\u001b[1;34m\u001b[0m\n\u001b[0;32m      5\u001b[0m \u001b[1;32mwith\u001b[0m \u001b[0mdbw\u001b[0m\u001b[1;33m.\u001b[0m\u001b[0mconnect_to_db\u001b[0m\u001b[1;33m(\u001b[0m\u001b[1;33m)\u001b[0m \u001b[1;32mas\u001b[0m \u001b[0mc\u001b[0m\u001b[1;33m:\u001b[0m\u001b[1;33m\u001b[0m\u001b[1;33m\u001b[0m\u001b[0m\n\u001b[0;32m      6\u001b[0m     \u001b[0mcur\u001b[0m \u001b[1;33m=\u001b[0m \u001b[0mc\u001b[0m\u001b[1;33m.\u001b[0m\u001b[0mcursor\u001b[0m\u001b[1;33m(\u001b[0m\u001b[1;33m)\u001b[0m\u001b[1;33m\u001b[0m\u001b[1;33m\u001b[0m\u001b[0m\n\u001b[1;32m----> 7\u001b[1;33m     \u001b[0mcur\u001b[0m\u001b[1;33m.\u001b[0m\u001b[0mexecute\u001b[0m\u001b[1;33m(\u001b[0m\u001b[0mq\u001b[0m\u001b[1;33m)\u001b[0m\u001b[1;33m\u001b[0m\u001b[1;33m\u001b[0m\u001b[0m\n\u001b[0m\u001b[0;32m      8\u001b[0m     \u001b[0mc\u001b[0m\u001b[1;33m.\u001b[0m\u001b[0mcommit\u001b[0m\u001b[1;33m(\u001b[0m\u001b[1;33m)\u001b[0m\u001b[1;33m\u001b[0m\u001b[1;33m\u001b[0m\u001b[0m\n\u001b[0;32m      9\u001b[0m     \u001b[1;31m# out = cur.fetchall()\u001b[0m\u001b[1;33m\u001b[0m\u001b[1;33m\u001b[0m\u001b[0m\n",
      "\u001b[1;31mIntegrityError\u001b[0m: ORA-02291: integrity constraint (SQLBOT.PYTHON_FK_TASK) violated - parent key not found"
     ]
    }
   ],
   "source": [
    "q = '''\n",
    "INSERT INTO PYTHON_BOT_PROGRESS (name, group_id, chat_id, task)\n",
    "VALUES ('Nikita Kakurnikov', 1, '258477531', 'L04_HW_task1')\n",
    "'''\n",
    "with dbw.connect_to_db() as c:\n",
    "    cur = c.cursor()\n",
    "    cur.execute(q)\n",
    "    c.commit()\n",
    "    # out = cur.fetchall()\n",
    "# out"
   ]
  },
  {
   "cell_type": "code",
   "execution_count": 40,
   "metadata": {
    "collapsed": false
   },
   "outputs": [
    {
     "data": {
      "text/html": [
       "<div>\n",
       "<style scoped>\n",
       "    .dataframe tbody tr th:only-of-type {\n",
       "        vertical-align: middle;\n",
       "    }\n",
       "\n",
       "    .dataframe tbody tr th {\n",
       "        vertical-align: top;\n",
       "    }\n",
       "\n",
       "    .dataframe thead th {\n",
       "        text-align: right;\n",
       "    }\n",
       "</style>\n",
       "<table border=\"1\" class=\"dataframe\">\n",
       "  <thead>\n",
       "    <tr style=\"text-align: right;\">\n",
       "      <th></th>\n",
       "      <th>TASK</th>\n",
       "    </tr>\n",
       "  </thead>\n",
       "  <tbody>\n",
       "    <tr>\n",
       "      <th>0</th>\n",
       "      <td>L04_project</td>\n",
       "    </tr>\n",
       "    <tr>\n",
       "      <th>1</th>\n",
       "      <td>L04_task1</td>\n",
       "    </tr>\n",
       "    <tr>\n",
       "      <th>2</th>\n",
       "      <td>L04_task2</td>\n",
       "    </tr>\n",
       "    <tr>\n",
       "      <th>3</th>\n",
       "      <td>L04_task3</td>\n",
       "    </tr>\n",
       "    <tr>\n",
       "      <th>4</th>\n",
       "      <td>L05_project</td>\n",
       "    </tr>\n",
       "    <tr>\n",
       "      <th>5</th>\n",
       "      <td>L05_task1</td>\n",
       "    </tr>\n",
       "  </tbody>\n",
       "</table>\n",
       "</div>"
      ],
      "text/plain": [
       "          TASK\n",
       "0  L04_project\n",
       "1    L04_task1\n",
       "2    L04_task2\n",
       "3    L04_task3\n",
       "4  L05_project\n",
       "5    L05_task1"
      ]
     },
     "execution_count": 40,
     "metadata": {},
     "output_type": "execute_result"
    }
   ],
   "source": [
    "q = '''\n",
    "select * from PYTHON_BOT_ASSIGNMENTS\n",
    "'''\n",
    "with dbw.connect_to_db() as c:\n",
    "    df = pd.read_sql(q, c)\n",
    "df"
   ]
  },
  {
   "cell_type": "code",
   "execution_count": 35,
   "metadata": {
    "collapsed": false
   },
   "outputs": [
    {
     "data": {
      "text/html": [
       "<div>\n",
       "<style scoped>\n",
       "    .dataframe tbody tr th:only-of-type {\n",
       "        vertical-align: middle;\n",
       "    }\n",
       "\n",
       "    .dataframe tbody tr th {\n",
       "        vertical-align: top;\n",
       "    }\n",
       "\n",
       "    .dataframe thead th {\n",
       "        text-align: right;\n",
       "    }\n",
       "</style>\n",
       "<table border=\"1\" class=\"dataframe\">\n",
       "  <thead>\n",
       "    <tr style=\"text-align: right;\">\n",
       "      <th></th>\n",
       "      <th>ID</th>\n",
       "      <th>NAME</th>\n",
       "    </tr>\n",
       "  </thead>\n",
       "  <tbody>\n",
       "    <tr>\n",
       "      <th>0</th>\n",
       "      <td>1</td>\n",
       "      <td>test</td>\n",
       "    </tr>\n",
       "  </tbody>\n",
       "</table>\n",
       "</div>"
      ],
      "text/plain": [
       "   ID  NAME\n",
       "0   1  test"
      ]
     },
     "execution_count": 35,
     "metadata": {},
     "output_type": "execute_result"
    }
   ],
   "source": [
    "q = '''\n",
    "select * from PYTHON_BOT_GROUPS\n",
    "'''\n",
    "with dbw.connect_to_db() as c:\n",
    "    df = pd.read_sql(q, c)\n",
    "df"
   ]
  },
  {
   "cell_type": "code",
   "execution_count": 38,
   "metadata": {
    "collapsed": false
   },
   "outputs": [
    {
     "data": {
      "text/html": [
       "<div>\n",
       "<style scoped>\n",
       "    .dataframe tbody tr th:only-of-type {\n",
       "        vertical-align: middle;\n",
       "    }\n",
       "\n",
       "    .dataframe tbody tr th {\n",
       "        vertical-align: top;\n",
       "    }\n",
       "\n",
       "    .dataframe thead th {\n",
       "        text-align: right;\n",
       "    }\n",
       "</style>\n",
       "<table border=\"1\" class=\"dataframe\">\n",
       "  <thead>\n",
       "    <tr style=\"text-align: right;\">\n",
       "      <th></th>\n",
       "      <th>NAME</th>\n",
       "      <th>CHAT_ID</th>\n",
       "      <th>TASK</th>\n",
       "      <th>GROUP_ID</th>\n",
       "      <th>DATE_TIME</th>\n",
       "    </tr>\n",
       "  </thead>\n",
       "  <tbody>\n",
       "  </tbody>\n",
       "</table>\n",
       "</div>"
      ],
      "text/plain": [
       "Empty DataFrame\n",
       "Columns: [NAME, CHAT_ID, TASK, GROUP_ID, DATE_TIME]\n",
       "Index: []"
      ]
     },
     "execution_count": 38,
     "metadata": {},
     "output_type": "execute_result"
    }
   ],
   "source": [
    "q = '''\n",
    "select * from PYTHON_BOT_PROGRESS\n",
    "'''\n",
    "with dbw.connect_to_db() as c:\n",
    "    df = pd.read_sql(q, c)\n",
    "df"
   ]
  },
  {
   "cell_type": "code",
   "execution_count": null,
   "id": "c8bcd1a5",
   "metadata": {},
   "outputs": [],
   "source": [
    "q = '''\n",
    "select\n",
    "task,\n",
    "count(*) as n_done\n",
    "from (\n",
    "    select\n",
    "    chat_id, task\n",
    "    from python_bot_progress\n",
    "    group by\n",
    "    chat_id, task\n",
    ") t\n",
    "group by\n",
    "task\n",
    "order by\n",
    "task\n",
    "'''"
   ]
  }
 ],
 "metadata": {
  "kernelspec": {
   "display_name": "Python 3 (ipykernel)",
   "language": "python",
   "name": "python3"
  },
  "language_info": {
   "codemirror_mode": {
    "name": "ipython",
    "version": 3
   },
   "file_extension": ".py",
   "mimetype": "text/x-python",
   "name": "python",
   "nbconvert_exporter": "python",
   "pygments_lexer": "ipython3",
   "version": "3.10.4"
  }
 },
 "nbformat": 4,
 "nbformat_minor": 5
}
